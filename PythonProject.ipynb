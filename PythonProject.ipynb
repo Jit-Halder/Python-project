{
  "metadata": {
    "language_info": {
      "codemirror_mode": {
        "name": "python",
        "version": 3
      },
      "file_extension": ".py",
      "mimetype": "text/x-python",
      "name": "python",
      "nbconvert_exporter": "python",
      "pygments_lexer": "ipython3",
      "version": "3.8"
    },
    "kernelspec": {
      "name": "python",
      "display_name": "Python (Pyodide)",
      "language": "python"
    }
  },
  "nbformat_minor": 4,
  "nbformat": 4,
  "cells": [
    {
      "cell_type": "code",
      "source": "def show_trailer(title, yt_url):\n    print(\"Title : \"+title)\n    print(\"Trailer url : \"+yt_url)\n\ndef show_info(release_date, director, storyline, rating):\n    print(\"Release date : \"+release_date)\n    print(\"Director : \"+director)\n    print(\"Storyline : \"+storyline)\n    print(\"IMDB rating :\"+rating)\n    \nprint(\"LIST OF MOVIES : \")\nprint(\"1 : Inception\")\nprint(\"2 : Interstellar\")\nprint(\"3 : The Grand Budapest Hotel\")\nprint(\"4 : Fantastic Mr. Fox\")\nprint(\"5 : Moonrise Kingdom\")\nprint(\"6 : Man of Steel\")\nprint(\"7 : The Shawshank redemption\")\nprint(\"8 : The Green Knight\")\nprint(\"9 : There Will Be Blood\")\nprint(\"10 : The Fabelmans\")\nprint(\"ENTER YOUR CHOICE : \")\noption = input()\n\ntitle,url,date,direct,story,rating=\" \",\" \",\" \",\" \",\" \",\" \"\nflag=1\nif option==\"1\" :\n    title=\"Inception\"\n    url=\"https://www.youtube.com/watch?v=YoHD9XEInc0\"\n    date=\"16 July 2010\"\n    direct=\"Christopher Nolan\"\n    story=\"A thief who steals corporate secrets through the use of dream-sharing technology is given the inverse task of planting an idea into the mind of a C.E.O., but his tragic past may doom the project and his team to disaster.\"\n    rating=\"8.8\"\nelif option==\"2\" :\n    title=\"Interstellar\"\n    url=\"https://www.youtube.com/watch?v=zSWdZVtXT7E\"\n    date=\"7 November 2014\"\n    direct=\"Christopher Nolan\"\n    story=\"When Earth becomes uninhabitable in the future, a farmer and ex-NASA pilot, Joseph Cooper, is tasked to pilot a spacecraft, along with a team of researchers, to find a new planet for humans.\"\n    rating=\"8.7\"\nelif option==\"3\" :\n    title=\"The Grand Budapest Hotel\"\n    url=\"https://www.youtube.com/watch?v=1Fg5iWmQjwk\"\n    date=\"6 March 2014\"\n    direct=\"Wes Anderson\"\n    story=\"A writer encounters the owner of an aging high-class hotel, who tells him of his early years serving as a lobby boy in the hotel's glorious years under an exceptional concierge.\"\n    rating=\"8.1\"\nelif option==\"4\":\n    title=\"Fantastic Mr. Fox\"\n    url=\"https://www.youtube.com/watch?v=n2igjYFojUo\"\n    date=\"13 November 2009\"\n    direct=\"Wes Anderson\"\n    story=\"An urbane fox cannot resist returning to his farm raiding ways and then must help his community survive the farmers' retaliation.\"\n    rating=\"7.9\"\nelif option==\"5\":\n    title=\"Moonrise Kingdom\"\n    url=\"https://www.youtube.com/watch?v=_eOI3AamSm8\"\n    date=\"21 September 2012\"\n    direct=\"Wes Anderson\"\n    story=\"A pair of young lovers flee their New England town, which causes a local search party to fan out to find them.\"\n    rating=\"7.8\"\nelif option==\"6\":\n    title=\"Man of Steel\"\n    url=\"https://www.youtube.com/watch?v=T6DJcgm3wNY\"\n    date=\"14 June 2013\"\n    direct=\"Zack Snyder\"\n    story=\"An alien child is evacuated from his dying world and sent to Earth to live among humans. His peace is threatened when other survivors of his home planet invade Earth.\"\n    rating=\"7.1\"\nelif option==\"7\":\n    title=\"The Shawshank Redemption\"\n    url=\"https://www.youtube.com/watch?v=NmzuHjWmXOc\"\n    date=\"22 September 1994\"\n    direct=\"Frank Darabont\"\n    story=\"Over the course of several years, two convicts form a friendship, seeking consolation and, eventually, redemption through basic compassion.\"\n    rating=\"9.3\"\nelif option==\"8\":\n    title=\"The Green Knight\"\n    url=\"https://www.youtube.com/watch?v=sS6ksY8xWCY\"\n    date=\"30 July 2021\"\n    direct=\"David Lowery\"\n    story=\"A fantasy retelling of the medieval story of Sir Gawain and the Green Knight.\"\n    rating=\"6.6\"\nelif option==\"9\":\n    title=\"There Will Be Blood\"\n    url=\"https://www.youtube.com/watch?v=FeSLPELpMeM\"\n    date=\"26 December 2007\"\n    direct=\"Paul Thomas Anderson\"\n    story=\"A story of family, religion, hatred, oil and madness, focusing on a turn-of-the-century prospector in the early days of the business.\"\n    rating=\"8.2\"\nelif option==\"10\":\n    title=\"The Fabelmans\"\n    url=\"https://www.youtube.com/watch?v=D1G2iLSzOe8\"\n    date=\"11 November 2022\"\n    direct=\"Steven Spielberg\"\n    story=\"Growing up in post-World War II era Arizona, young Sammy Fabelman aspires to become a filmmaker as he reaches adolescence, but soon discovers a shattering family secret and explores how the power of films can help him see the truth.\"\n    rating=\"7.6\"\n    \nelse:\n    print(\"INVALID CHOICE\")\n    flag=0\n\nif(flag==1):\n    show_trailer(title,url)\n    show_info(date,direct,story,rating)",
      "metadata": {},
      "execution_count": null,
      "outputs": []
    }
  ]
}